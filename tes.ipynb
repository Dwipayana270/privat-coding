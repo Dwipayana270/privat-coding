{
 "cells": [
  {
   "cell_type": "markdown",
   "metadata": {},
   "source": [
    "Loop merupakan perintah yang digunakan membuat suatu \"perulangan\", misalnya kita akan printing bilangan 1 sampai 10 menurun."
   ]
  },
  {
   "cell_type": "code",
   "execution_count": 1,
   "metadata": {
    "scrolled": false
   },
   "outputs": [
    {
     "name": "stdout",
     "output_type": "stream",
     "text": [
      "1\n",
      "2\n",
      "3\n",
      "4\n",
      "5\n",
      "6\n",
      "7\n",
      "8\n",
      "9\n",
      "10\n"
     ]
    }
   ],
   "source": [
    "for i in [1, 2, 3, 4, 5, 6, 7, 8 ,9, 10]:\n",
    "    print(i)"
   ]
  },
  {
   "cell_type": "markdown",
   "metadata": {},
   "source": [
    "i bisa diganti dengan apapun, kita dapat mengatakannya sebagai placeholder. Misalnya kita mengganti \"i\" dengan \"bilangan\""
   ]
  },
  {
   "cell_type": "code",
   "execution_count": 2,
   "metadata": {
    "scrolled": true
   },
   "outputs": [
    {
     "name": "stdout",
     "output_type": "stream",
     "text": [
      "1\n",
      "2\n",
      "3\n",
      "4\n",
      "5\n",
      "6\n",
      "7\n",
      "8\n",
      "9\n",
      "10\n"
     ]
    }
   ],
   "source": [
    "for bilangan in [1, 2, 3, 4, 5, 6, 7, 8 ,9, 10]:\n",
    "    print(bilangan)"
   ]
  },
  {
   "cell_type": "markdown",
   "metadata": {},
   "source": [
    "Kita juga dapat mengisi list suatu string"
   ]
  },
  {
   "cell_type": "code",
   "execution_count": 6,
   "metadata": {},
   "outputs": [
    {
     "name": "stdout",
     "output_type": "stream",
     "text": [
      "hiu\n",
      "piranha\n",
      "koi\n",
      "lohan\n"
     ]
    }
   ],
   "source": [
    "for ikan in [\"hiu\", \"piranha\", \"koi\", \"lohan\"]:\n",
    "    print(ikan)"
   ]
  },
  {
   "cell_type": "code",
   "execution_count": 8,
   "metadata": {
    "scrolled": true
   },
   "outputs": [
    {
     "name": "stdout",
     "output_type": "stream",
     "text": [
      "aku suka ikan hiu\n",
      "aku suka ikan piranha\n",
      "aku suka ikan koi\n",
      "aku suka ikan lohan\n"
     ]
    }
   ],
   "source": [
    "for ikan in [\"hiu\", \"piranha\", \"koi\", \"lohan\"]:\n",
    "    print(f\"aku suka ikan {ikan}\")"
   ]
  },
  {
   "cell_type": "markdown",
   "metadata": {},
   "source": [
    "untuk menyingkat \"1 sampai 10\", kita dapat menggunakan bantuan fungsi range()"
   ]
  },
  {
   "cell_type": "code",
   "execution_count": 3,
   "metadata": {},
   "outputs": [
    {
     "name": "stdout",
     "output_type": "stream",
     "text": [
      "1\n",
      "2\n",
      "3\n",
      "4\n",
      "5\n",
      "6\n",
      "7\n",
      "8\n",
      "9\n",
      "10\n"
     ]
    }
   ],
   "source": [
    "for i in range(1,11):\n",
    "    print(i)"
   ]
  },
  {
   "cell_type": "markdown",
   "metadata": {},
   "source": [
    "Kita dapat mengoperasikan tiap-tiap elemen dalam suatu range, misalnya kita akan mengalikan tiap-tiap elemen dengan dua."
   ]
  },
  {
   "cell_type": "code",
   "execution_count": 4,
   "metadata": {},
   "outputs": [
    {
     "name": "stdout",
     "output_type": "stream",
     "text": [
      "2\n",
      "4\n",
      "6\n",
      "8\n",
      "10\n",
      "12\n",
      "14\n",
      "16\n",
      "18\n",
      "20\n"
     ]
    }
   ],
   "source": [
    "for i in range(1,11):\n",
    "    print(2*i)"
   ]
  },
  {
   "cell_type": "markdown",
   "metadata": {},
   "source": [
    "misalnya kita mempunyai range(1,11), kita dapat mengubahnya menjadi list,"
   ]
  },
  {
   "cell_type": "code",
   "execution_count": 5,
   "metadata": {},
   "outputs": [
    {
     "name": "stdout",
     "output_type": "stream",
     "text": [
      "range(1, 11) <class 'range'>\n",
      "[1, 2, 3, 4, 5, 6, 7, 8, 9, 10] <class 'list'>\n"
     ]
    }
   ],
   "source": [
    "bilangan = range(1,11)\n",
    "print(bilangan, type(bilangan))\n",
    "bilangan = list(range(1,11))\n",
    "print(bilangan, type(bilangan))"
   ]
  },
  {
   "cell_type": "markdown",
   "metadata": {},
   "source": [
    "Kita akan membuat list yang berisi type dari suatu list"
   ]
  },
  {
   "cell_type": "code",
   "execution_count": 13,
   "metadata": {
    "scrolled": true
   },
   "outputs": [
    {
     "name": "stdout",
     "output_type": "stream",
     "text": [
      "[<class 'int'>, <class 'int'>, <class 'str'>, <class 'bool'>, <class 'float'>, <class 'str'>]\n"
     ]
    }
   ],
   "source": [
    "campur = [1, 2, \"hiu\", 2 == 3, 0.5, \"Jawa Barat\"]\n",
    "campur_type = []\n",
    "for i in campur:\n",
    "    campur_type.append(type(i))\n",
    "    \n",
    "print(campur_type)"
   ]
  },
  {
   "cell_type": "markdown",
   "metadata": {},
   "source": [
    "Kita akan mencoba menggabungkan loop dan if-then, jika kita menemukan \"0\" dalam suatu list, kita akan ganti dengan \"nol\""
   ]
  },
  {
   "cell_type": "code",
   "execution_count": 14,
   "metadata": {
    "scrolled": true
   },
   "outputs": [
    {
     "name": "stdout",
     "output_type": "stream",
     "text": [
      "1\n",
      "nol\n",
      "2\n",
      "nol\n",
      "3\n",
      "4\n",
      "5\n",
      "nol\n"
     ]
    }
   ],
   "source": [
    "for i in [1, 0, 2, 0, 3, 4, 5, 0]:\n",
    "    if i == 0:\n",
    "        print(\"nol\")\n",
    "    else:\n",
    "        print(i)"
   ]
  },
  {
   "cell_type": "markdown",
   "metadata": {},
   "source": [
    "Challenge: Membuat list ganjil-genap\n",
    "contoh:\n",
    "input: [1, 2, 4, 5, 6, 10]\n",
    "output: [\"ganjil\", \"genap\", \"genap\", \"ganjil\", \"genap\", \"genap\"]"
   ]
  },
  {
   "cell_type": "code",
   "execution_count": 15,
   "metadata": {},
   "outputs": [],
   "source": [
    "bilangan = [1, 2, 4, 5, 6, 10]\n",
    "ganjil_genap = []\n",
    "\n",
    "for i in bilangan:\n",
    "    if i%2 == 0:\n",
    "        ganjil_genap.append(\"genap\")\n",
    "    else:\n",
    "        ganjil_genap.append(\"ganjil\")"
   ]
  },
  {
   "cell_type": "code",
   "execution_count": 16,
   "metadata": {},
   "outputs": [
    {
     "name": "stdout",
     "output_type": "stream",
     "text": [
      "['ganjil', 'genap', 'genap', 'ganjil', 'genap', 'genap']\n"
     ]
    }
   ],
   "source": [
    "print(ganjil_genap)"
   ]
  },
  {
   "cell_type": "code",
   "execution_count": null,
   "metadata": {},
   "outputs": [],
   "source": []
  }
 ],
 "metadata": {
  "kernelspec": {
   "display_name": "Python 3",
   "language": "python",
   "name": "python3"
  },
  "language_info": {
   "codemirror_mode": {
    "name": "ipython",
    "version": 3
   },
   "file_extension": ".py",
   "mimetype": "text/x-python",
   "name": "python",
   "nbconvert_exporter": "python",
   "pygments_lexer": "ipython3",
   "version": "3.8.3"
  }
 },
 "nbformat": 4,
 "nbformat_minor": 4
}
