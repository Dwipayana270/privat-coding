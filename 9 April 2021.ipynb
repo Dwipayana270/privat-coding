{
 "cells": [
  {
   "cell_type": "markdown",
   "metadata": {},
   "source": [
    "Pertemuan sebelumnya kita sudah berkenalan dengan fungsi lambda pada Python, kali ini kita akan berkenalan dengan fungsi def.\n",
    "def membantu kita saat kita ingin membuat fungsi dengan keluaran yang lebih dari satu."
   ]
  },
  {
   "cell_type": "code",
   "execution_count": null,
   "metadata": {},
   "outputs": [],
   "source": [
    "# Contoh fungsi lambda dengan satu argument\n",
    "f = lambda x: x*2\n",
    "print(f(2))\n",
    "\n",
    "\n",
    "# Contoh def dengan satu argument\n",
    "def g(x):\n",
    "    return x*2\n",
    "\n",
    "print(g(2))"
   ]
  },
  {
   "cell_type": "code",
   "execution_count": null,
   "metadata": {},
   "outputs": [],
   "source": [
    "# Contoh def dengan menambahkan conditional\n",
    "def genapGanjil(x):\n",
    "    if x % 2 == 1:\n",
    "        return \"ganjil\"\n",
    "    else:\n",
    "        return \"genap\"\n",
    "\n",
    "print(genapGanjil(2))"
   ]
  },
  {
   "cell_type": "markdown",
   "metadata": {},
   "source": [
    "kita tidak boleh mengosongkan fungsi def, misalnya"
   ]
  },
  {
   "cell_type": "code",
   "execution_count": null,
   "metadata": {},
   "outputs": [],
   "source": [
    "def akanError():\n",
    "    "
   ]
  },
  {
   "cell_type": "markdown",
   "metadata": {},
   "source": [
    "Jika kita ingin mengosongkan sementara fungsi def, kita menggunakan pass"
   ]
  },
  {
   "cell_type": "code",
   "execution_count": null,
   "metadata": {},
   "outputs": [],
   "source": [
    "def akanError():\n",
    "    pass"
   ]
  },
  {
   "cell_type": "markdown",
   "metadata": {},
   "source": [
    "Selain menaruh conditional pada fungsi def, kita juga dapat bereksperimen dengan menambahkan for loop dan while-loop"
   ]
  },
  {
   "cell_type": "code",
   "execution_count": null,
   "metadata": {},
   "outputs": [],
   "source": [
    "def spamming(string, n):\n",
    "    for i in range(0,n + 1):\n",
    "        print(string)\n",
    "\n",
    "spamming(\"p\", 10)"
   ]
  },
  {
   "cell_type": "markdown",
   "metadata": {},
   "source": [
    "Problem solving tips:\n",
    "1. Understand\n",
    "(pastikan bahwa kamu memahami dengan baik suatu kasus)\n",
    "2. Plan\n",
    "(Jika kamu sudah memahami dengan baik, maka selanjutnya ialah merencanakan langkah-langkah pengerjaan)\n",
    "3. Divide\n",
    "(Kasus yang \"besar\" pasti menyusahkan, namun kasus yang besar dapat dipecah- pecah menjadi kecil)\n",
    "4. Stuck? \n",
    "(Ada saatnya kita belum dapat menyelesaikan suatu kasus, tidak apa-apa. Berhenti sejenak, setelah beberapa waktu, kamu dapat mencoba mencari tahu \"mengapa ada bug?\" Google adalah teman terbaikmu, berusahalah untuk research dengan google.)"
   ]
  },
  {
   "cell_type": "markdown",
   "metadata": {},
   "source": [
    "Write a function that stutters a word as if someone is struggling to read it. The first two letters are repeated twice with an ellipsis ... and space after each, and then the word is pronounced with a question mark ?.\n",
    "Contoh:\n",
    "input: iya\n",
    "output: iy.. iy.. iya?"
   ]
  },
  {
   "cell_type": "code",
   "execution_count": null,
   "metadata": {},
   "outputs": [],
   "source": [
    "Solusi:"
   ]
  },
  {
   "cell_type": "code",
   "execution_count": null,
   "metadata": {},
   "outputs": [],
   "source": [
    "def stutter(string):\n",
    "    fr = string[0:2]\n",
    "    return f\"{fr}.. {fr}.. {string}?\"\n",
    "\n",
    "stutter(\"apa benar\")\n",
    "type(stutter(\"apa benar\"))"
   ]
  },
  {
   "cell_type": "markdown",
   "metadata": {},
   "source": [
    "Membuat fungsi faktorial\n",
    "contoh:\n",
    "input: factorial(6)\n",
    "output: 6*5*4*3*2*1"
   ]
  },
  {
   "cell_type": "code",
   "execution_count": null,
   "metadata": {},
   "outputs": [],
   "source": [
    "def factorial(n):\n",
    "    mul = 1\n",
    "    for i in range(1,n+1):\n",
    "        mul = mul * i\n",
    "    return mul\n",
    "\n",
    "factorial(13)\n",
    "        "
   ]
  },
  {
   "cell_type": "markdown",
   "metadata": {},
   "source": [
    "Membuat penghitung bilangan ganjil\n",
    "contoh:\n",
    "input: oddCount([1,2,1,1,1,1,1,1,1,1,1,1,1])\n",
    "output: 12"
   ]
  },
  {
   "cell_type": "code",
   "execution_count": null,
   "metadata": {},
   "outputs": [],
   "source": [
    "def oddCount(daftar):\n",
    "    storage = 0\n",
    "    for i in daftar:\n",
    "        if i % 2 == 0:\n",
    "            storage += 0\n",
    "        else:\n",
    "            storage += 1\n",
    "    return storage\n",
    "\n",
    "oddCount([1,2,1,1,1,1,1,1,1,1,1,1,1])"
   ]
  }
 ],
 "metadata": {
  "kernelspec": {
   "display_name": "Python 3",
   "language": "python",
   "name": "python3"
  },
  "language_info": {
   "codemirror_mode": {
    "name": "ipython",
    "version": 3
   },
   "file_extension": ".py",
   "mimetype": "text/x-python",
   "name": "python",
   "nbconvert_exporter": "python",
   "pygments_lexer": "ipython3",
   "version": "3.8.3"
  }
 },
 "nbformat": 4,
 "nbformat_minor": 4
}
