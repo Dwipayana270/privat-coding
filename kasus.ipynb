{
 "cells": [
  {
   "cell_type": "markdown",
   "metadata": {},
   "source": [
    "## Kasus 1: Membuat fungsi Triple Pythagoras"
   ]
  },
  {
   "cell_type": "markdown",
   "metadata": {},
   "source": [
    "Pengenalan konsep:\n",
    "mari kita ingat kembali rumus Pythagoras, yaitu:\n",
    "Untuk segitiga siku-siku dengan sisi berturut-turut a, b dan c dengan c merupakan sisi miring, maka hubungan antar sisinya $a^{2} + b^{2} = c^{2}$"
   ]
  },
  {
   "cell_type": "markdown",
   "metadata": {},
   "source": [
    "Misalkan kita mempunyai tiga bilangan berturut-turut 3, 4, 5. Apakah bilangan tersebut triple pythagoras? jawabannya iya, karena $3^{2}+4^{2}=5^{2}$ \\\n",
    "Kita akan mencoba membuat fungsi triple_pythagoras(a, b, c) yang akan memberikan output berupa boolean.\\\n",
    "Contoh:\n",
    "\n",
    "triple_pythagoras(1, 2, 3) memberikan output false\\\n",
    "triple_pythagoras(3, 4, 5) memberikan output true"
   ]
  },
  {
   "cell_type": "code",
   "execution_count": 6,
   "metadata": {},
   "outputs": [
    {
     "name": "stdout",
     "output_type": "stream",
     "text": [
      "True\n",
      "False\n"
     ]
    }
   ],
   "source": [
    "def triple_pythagoras(a, b, c):\n",
    "    if a**2 + b**2 == c**2:\n",
    "        return True\n",
    "    else:\n",
    "        return False\n",
    "    \n",
    "print(triple_pythagoras(3, 4, 5))\n",
    "print(triple_pythagoras(1, 2, 3))"
   ]
  },
  {
   "cell_type": "code",
   "execution_count": 7,
   "metadata": {},
   "outputs": [
    {
     "name": "stdout",
     "output_type": "stream",
     "text": [
      "True\n",
      "False\n"
     ]
    }
   ],
   "source": [
    "def triple_pythagoras2(a, b, c):\n",
    "    return a**2 + b**2 == c**2\n",
    "\n",
    "print(triple_pythagoras2(3, 4, 5))\n",
    "print(triple_pythagoras2(1, 2, 3))"
   ]
  },
  {
   "cell_type": "markdown",
   "metadata": {},
   "source": [
    "## Kasus 2: Membuat fungsi ketaksamaan segitiga (triangle inequality)"
   ]
  },
  {
   "cell_type": "markdown",
   "metadata": {},
   "source": [
    "Pengenalan konsep:\n",
    "Misalkan kita mempunyai tiga buah lidi dengan panjang yang berbeda berturut-turut 3, 4 dan 5. Pertanyaannya, dapatkah kita membuat segitiga dari tiga buah lidi tersebut? jawabannya bisa.\n",
    "Sekarang misalkan panjang tiga buah lidi 1, 2 dan 10. Dengan panjang tersebut, dapatkah kita membuat segitiga? jawabannya tidak. Mengapa?\n",
    "**Untuk dapat membentuk segitiga, jumlahan dua sisinya harus lebih besar dari sisi yang lain**"
   ]
  },
  {
   "cell_type": "markdown",
   "metadata": {},
   "source": [
    "secara matematis, kita dapat menuliskan pernyataan di atas menjadi sebagai berikut:\n",
    "Misalkan 3 panjang lidi berturut-turut a, b dan c. 3 lidi tersebut dapat membuat segitiga jika\n",
    "$a + b > c$ dan $b + c = a$ dan $a + c = b$"
   ]
  },
  {
   "cell_type": "markdown",
   "metadata": {},
   "source": [
    "Mengapa panjang tiga lidi dengan panjang 3, 4 dan 5 dapat membentuk segitiga? karena\n",
    "$3 + 4 = 7 > 5$, $4 + 5 = 9 > 3$ dan $5 + 3 = 8 > 4$\n",
    "Mengapa panjang tiga lidi dengan panjang 1, 2 dan 10 tidak dapat membentuk segitiga? karena\n",
    "$1 + 2 = 3 < 10$"
   ]
  },
  {
   "cell_type": "markdown",
   "metadata": {},
   "source": [
    "Kita akan mencoba membuat fungsi dalam python.\n",
    "fungsi tersebut akan meminta tiga float, dan akan memberikan output berupa boolean\n",
    "Misalkan: \n",
    "triangle_ineq(3, 4, 5) akan memunculkan true\n",
    "sedangkan\n",
    "triangle_ineq(1, 2, 10) akan memunculkan false"
   ]
  },
  {
   "cell_type": "markdown",
   "metadata": {},
   "source": [
    "Strategi:\n",
    "1. membuat fungsi dengan def\n",
    "2. menggunakan conditional (if-then)\n",
    "3. menuliskan $a + b > c$ dan $b + c = a$ dan $a + c = b$ dalam boolean operator (and)\n",
    "4. membuat return boolean"
   ]
  },
  {
   "cell_type": "markdown",
   "metadata": {},
   "source": [
    "## Kasus 3: Membuat rerata (mean)"
   ]
  },
  {
   "cell_type": "markdown",
   "metadata": {},
   "source": [
    "Kita akan mencoba membuat program rerata, fungsinya sebagai berikut:\n",
    "Misalkan fungsi mean([1, 2, 3, 4, 5]), output yang diinginkan adalah rata-rata dari list [1, 2, 3, 4, 5] yaitu 3"
   ]
  },
  {
   "cell_type": "markdown",
   "metadata": {},
   "source": [
    "Strategi:\n",
    "1. membuat fungsi dengan def\n",
    "2. menjumlahkan tiap-tiap elemen dalam list dengan menggunakan for loop\n",
    "3. membagi dengan len()"
   ]
  }
 ],
 "metadata": {
  "kernelspec": {
   "display_name": "Python 3",
   "language": "python",
   "name": "python3"
  },
  "language_info": {
   "codemirror_mode": {
    "name": "ipython",
    "version": 3
   },
   "file_extension": ".py",
   "mimetype": "text/x-python",
   "name": "python",
   "nbconvert_exporter": "python",
   "pygments_lexer": "ipython3",
   "version": "3.8.3"
  }
 },
 "nbformat": 4,
 "nbformat_minor": 4
}
